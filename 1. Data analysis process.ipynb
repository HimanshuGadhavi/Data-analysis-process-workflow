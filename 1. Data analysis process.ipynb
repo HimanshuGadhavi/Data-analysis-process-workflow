{
 "cells": [
  {
   "cell_type": "markdown",
   "id": "686cf484",
   "metadata": {},
   "source": [
    "# What is Data Analysis\n",
    "* Data analysis is a process of inspecting, cleansing, transforming, and modeling data with the goal of discovering useful information, informing conclusions, and supporting decision-making.\n",
    "\n",
    "    ### Steps in Data Analysis Process\n",
    "    >1. Asking Questions\n",
    "    >2. Data Wrangling (Data preprocessing)\n",
    "    >3. Exploratory Data Analysis\n",
    "    >4. Drawing Conclusions\n",
    "    >5. Communicating Results"
   ]
  },
  {
   "cell_type": "markdown",
   "id": "984b3bec",
   "metadata": {},
   "source": [
    "## Step 1 : Asking Questions\n",
    "\n",
    "1. What Features will contribute to my analysis?\n",
    "2. What features are not important for my analysis?\n",
    "3. Which of the features have a strong correlation?\n",
    "4. Do I need a data preprocessing?\n",
    "5. What kind of feature manipulation/engineering is required?\n",
    "\n",
    "    ### How can I ask better questions?\n",
    "    >* Subject Matter Expertise\n",
    "    >* Experience"
   ]
  },
  {
   "cell_type": "markdown",
   "id": "88c4f758",
   "metadata": {},
   "source": [
    "## Step 2 : Data Wrangling/Munging\n",
    "* Data wrangling, sometimes referred to as data munging, is the process of transforming and mapping data from one **\"raw\"** data form into another format with the intent of making it more appropriate and valuable for a variety of downstream purposes such as analytics.\n",
    "\n",
    "    ### Step to follow in Data Wrangling/Munging\n",
    "    \n",
    "    >1. **Gathering Data**\n",
    "    >>* CSV Files\n",
    "    >>* API\n",
    "    >>* WEB Scrapping\n",
    "    >>* DATABASES\n",
    "    \n",
    "    >2. **Assessing Data**\n",
    "    >>* Finding the number of rows/columns (shape)\n",
    "    >>* Data types off various columns (info())\n",
    "    >>* Checking for missing values (info())\n",
    "    >>* Check for duplicate data (is_unique)\n",
    "    >>* Memory occupied by the dataset (info())\n",
    "    >>* High level mathematical overview of the data (describe)\n",
    "    \n",
    "    >3. **Cleaning Data** \n",
    "    >>* Missing Data (eg.mean)\n",
    "    >>* Remove duplicates data (drop_duplicates)\n",
    "    >>* Incorrect data type (astype)"
   ]
  },
  {
   "cell_type": "markdown",
   "id": "53ef5cd1",
   "metadata": {},
   "source": [
    "## Step 3 : Exploratory Data Analysis\n",
    "* Explore the Data\n",
    "* Augment the Data (we make the changes in the data as per our requirement)\n",
    "\n",
    "    ### Exploring Data\n",
    "    >1. Finding Correlation and Covariance\n",
    "    >2. Doing univariate and multivariate analysis\n",
    "    >3. Plotting graphs(data visualization)\n",
    "    \n",
    "    ### Augmenting Data\n",
    "    >1. Removing Outliers\n",
    "    >2. Merging DataFrames\n",
    "    >3. Adding new Columns\n",
    "    * These operations which are performed during augmenting data are collectively called as **Feature Engineering**"
   ]
  },
  {
   "cell_type": "markdown",
   "id": "0b8440ef",
   "metadata": {},
   "source": [
    "## Step 4 : Drawing Conclusions\n",
    "* We use the following methods for drawing coclusions\n",
    "1. By using Machine Learning\n",
    "2. With use of Inferential Statistics\n",
    "3. Making use of Descriptive Statistics\n",
    "\n",
    "    #### some example conclusions based on Descriptive Statistics\n",
    "    >1. Is Rohit Sharma a better batsman in 2nd innings (IPL Dataset)?\n",
    "    >2. Does being a female increases your chances of survival (Titanic Dataset)?\n",
    "    >3. Is Delhi the most costly place for eating out (Zomato Dataset)?"
   ]
  },
  {
   "cell_type": "markdown",
   "id": "d320bcea",
   "metadata": {},
   "source": [
    "## Step 5 : Communicating Results/ Data Storytelling\n",
    "* In person\n",
    "* Reports\n",
    "* Blog Post\n",
    "* PPTs/Slide decks"
   ]
  },
  {
   "cell_type": "markdown",
   "id": "317362cf",
   "metadata": {},
   "source": [
    "# Note \n",
    "* The whole data analysis process is not linear that one step will come after another. You may be working on one phase of the process and suddenly you will again go to the previous step and modify the changes and then you continue the process of the data analysis."
   ]
  }
 ],
 "metadata": {
  "kernelspec": {
   "display_name": "Python 3 (ipykernel)",
   "language": "python",
   "name": "python3"
  },
  "language_info": {
   "codemirror_mode": {
    "name": "ipython",
    "version": 3
   },
   "file_extension": ".py",
   "mimetype": "text/x-python",
   "name": "python",
   "nbconvert_exporter": "python",
   "pygments_lexer": "ipython3",
   "version": "3.9.13"
  }
 },
 "nbformat": 4,
 "nbformat_minor": 5
}
